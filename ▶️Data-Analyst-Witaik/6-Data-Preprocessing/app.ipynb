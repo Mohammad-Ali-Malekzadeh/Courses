{
 "cells": [
  {
   "cell_type": "code",
   "execution_count": 1,
   "id": "176185ef-6720-443f-8919-74d9f8370573",
   "metadata": {},
   "outputs": [],
   "source": [
    "import pandas as pd"
   ]
  },
  {
   "cell_type": "code",
   "execution_count": 3,
   "id": "1b1a30b3-4725-42bd-a1e8-3d2111cfd5e8",
   "metadata": {},
   "outputs": [
    {
     "name": "stdout",
     "output_type": "stream",
     "text": [
      "2.2.2\n"
     ]
    }
   ],
   "source": [
    "print(pd.__version__)"
   ]
  },
  {
   "cell_type": "code",
   "execution_count": 5,
   "id": "10dd3b2e-7e49-4b4c-90ac-3321be49161d",
   "metadata": {},
   "outputs": [],
   "source": [
    "Deposite = pd.DataFrame({\"c-name\": ['Amin', 'Fatemeh', 'Mohammad', 'Sahar'],\n",
    "                        'b-name': ['Baran', 'Baran', 'Kaj', 'Bahar'],\n",
    "                        'a-no': [100, 101, 102, 103],\n",
    "                        'balance': [100000, 200000, 500000, 800000]})"
   ]
  },
  {
   "cell_type": "code",
   "execution_count": 7,
   "id": "2b247f14-6fa6-4181-b69c-abb8f5276126",
   "metadata": {},
   "outputs": [
    {
     "data": {
      "text/html": [
       "<div>\n",
       "<style scoped>\n",
       "    .dataframe tbody tr th:only-of-type {\n",
       "        vertical-align: middle;\n",
       "    }\n",
       "\n",
       "    .dataframe tbody tr th {\n",
       "        vertical-align: top;\n",
       "    }\n",
       "\n",
       "    .dataframe thead th {\n",
       "        text-align: right;\n",
       "    }\n",
       "</style>\n",
       "<table border=\"1\" class=\"dataframe\">\n",
       "  <thead>\n",
       "    <tr style=\"text-align: right;\">\n",
       "      <th></th>\n",
       "      <th>c-name</th>\n",
       "      <th>b-name</th>\n",
       "      <th>a-no</th>\n",
       "      <th>balance</th>\n",
       "    </tr>\n",
       "  </thead>\n",
       "  <tbody>\n",
       "    <tr>\n",
       "      <th>0</th>\n",
       "      <td>Amin</td>\n",
       "      <td>Baran</td>\n",
       "      <td>100</td>\n",
       "      <td>100000</td>\n",
       "    </tr>\n",
       "    <tr>\n",
       "      <th>1</th>\n",
       "      <td>Fatemeh</td>\n",
       "      <td>Baran</td>\n",
       "      <td>101</td>\n",
       "      <td>200000</td>\n",
       "    </tr>\n",
       "    <tr>\n",
       "      <th>2</th>\n",
       "      <td>Mohammad</td>\n",
       "      <td>Kaj</td>\n",
       "      <td>102</td>\n",
       "      <td>500000</td>\n",
       "    </tr>\n",
       "    <tr>\n",
       "      <th>3</th>\n",
       "      <td>Sahar</td>\n",
       "      <td>Bahar</td>\n",
       "      <td>103</td>\n",
       "      <td>800000</td>\n",
       "    </tr>\n",
       "  </tbody>\n",
       "</table>\n",
       "</div>"
      ],
      "text/plain": [
       "     c-name b-name  a-no  balance\n",
       "0      Amin  Baran   100   100000\n",
       "1   Fatemeh  Baran   101   200000\n",
       "2  Mohammad    Kaj   102   500000\n",
       "3     Sahar  Bahar   103   800000"
      ]
     },
     "execution_count": 7,
     "metadata": {},
     "output_type": "execute_result"
    }
   ],
   "source": [
    "Deposite"
   ]
  },
  {
   "cell_type": "markdown",
   "id": "36aba103-9b52-407c-a1bb-a4b70cedeb02",
   "metadata": {},
   "source": [
    "print(Deposite.loc[0])"
   ]
  },
  {
   "cell_type": "markdown",
   "id": "2062822a-5d24-48d0-a40d-4bc1ae53815e",
   "metadata": {},
   "source": [
    "# Read and Load DataFrame"
   ]
  },
  {
   "cell_type": "code",
   "execution_count": 32,
   "id": "a531fc35-ccc4-44e7-bce9-8b62a1c5ec4a",
   "metadata": {},
   "outputs": [
    {
     "ename": "TypeError",
     "evalue": "read_csv() missing 1 required positional argument: 'filepath_or_buffer'",
     "output_type": "error",
     "traceback": [
      "\u001b[1;31m---------------------------------------------------------------------------\u001b[0m",
      "\u001b[1;31mTypeError\u001b[0m                                 Traceback (most recent call last)",
      "Cell \u001b[1;32mIn[32], line 1\u001b[0m\n\u001b[1;32m----> 1\u001b[0m df \u001b[38;5;241m=\u001b[39m \u001b[43mpd\u001b[49m\u001b[38;5;241;43m.\u001b[39;49m\u001b[43mread_csv\u001b[49m\u001b[43m(\u001b[49m\u001b[43m)\u001b[49m\n",
      "\u001b[1;31mTypeError\u001b[0m: read_csv() missing 1 required positional argument: 'filepath_or_buffer'"
     ]
    }
   ],
   "source": [
    "df = pd.read_csv()"
   ]
  },
  {
   "cell_type": "code",
   "execution_count": 34,
   "id": "b26cc6a1-6902-4094-85c5-fbb6d74ffeea",
   "metadata": {},
   "outputs": [
    {
     "ename": "NameError",
     "evalue": "name 'df' is not defined",
     "output_type": "error",
     "traceback": [
      "\u001b[1;31m---------------------------------------------------------------------------\u001b[0m",
      "\u001b[1;31mNameError\u001b[0m                                 Traceback (most recent call last)",
      "Cell \u001b[1;32mIn[34], line 1\u001b[0m\n\u001b[1;32m----> 1\u001b[0m \u001b[43mdf\u001b[49m\u001b[38;5;241m.\u001b[39mhead()\n",
      "\u001b[1;31mNameError\u001b[0m: name 'df' is not defined"
     ]
    }
   ],
   "source": [
    "# 5 سطر اول\n",
    "df.head()"
   ]
  },
  {
   "cell_type": "code",
   "execution_count": 36,
   "id": "7fa0f31a-ee43-49ce-85f9-725bc84acdcb",
   "metadata": {},
   "outputs": [
    {
     "ename": "NameError",
     "evalue": "name 'df' is not defined",
     "output_type": "error",
     "traceback": [
      "\u001b[1;31m---------------------------------------------------------------------------\u001b[0m",
      "\u001b[1;31mNameError\u001b[0m                                 Traceback (most recent call last)",
      "Cell \u001b[1;32mIn[36], line 2\u001b[0m\n\u001b[0;32m      1\u001b[0m \u001b[38;5;66;03m# 5 سطر آخر\u001b[39;00m\n\u001b[1;32m----> 2\u001b[0m \u001b[43mdf\u001b[49m\u001b[38;5;241m.\u001b[39mtail()\n",
      "\u001b[1;31mNameError\u001b[0m: name 'df' is not defined"
     ]
    }
   ],
   "source": [
    "# 5 سطر آخر\n",
    "df.tail()"
   ]
  },
  {
   "cell_type": "code",
   "execution_count": null,
   "id": "60c44f13-3559-4f88-ab59-f6a54c6c0b11",
   "metadata": {},
   "outputs": [],
   "source": [
    "# اطلاعات دیتاست بدست میآید\n",
    "print(df.info())"
   ]
  },
  {
   "cell_type": "markdown",
   "id": "b83d82db-4d97-4c00-a7dd-c4927414f9a5",
   "metadata": {},
   "source": [
    "# Cleaning Data"
   ]
  },
  {
   "cell_type": "markdown",
   "id": "339d0027-2881-4e63-b5e9-597201b03df6",
   "metadata": {},
   "source": [
    "Empity Cell(missing Data)\n",
    "\n",
    "Data is Wrong Format\n",
    "\n",
    "Wrong Data\n",
    "\n",
    "Duplicates"
   ]
  },
  {
   "cell_type": "code",
   "execution_count": null,
   "id": "cd203cda-2629-4e51-b11e-e49b34d73673",
   "metadata": {},
   "outputs": [],
   "source": [
    "df = pd.read_csv()"
   ]
  },
  {
   "cell_type": "markdown",
   "id": "32baf9cf-bec7-4a15-9fb3-294a6ca0debf",
   "metadata": {},
   "source": [
    "# Empty Cell"
   ]
  },
  {
   "cell_type": "code",
   "execution_count": null,
   "id": "44168c37-3b9c-4113-b8ae-7f3992285bda",
   "metadata": {},
   "outputs": [],
   "source": [
    "df.isnull()"
   ]
  },
  {
   "cell_type": "code",
   "execution_count": null,
   "id": "377df390-d1a8-4753-b2a5-0bca5d147ad7",
   "metadata": {},
   "outputs": [],
   "source": [
    "df.isnull().sum()"
   ]
  },
  {
   "cell_type": "code",
   "execution_count": null,
   "id": "ec97268d-9a06-4c02-b005-75da2ead8a53",
   "metadata": {},
   "outputs": [],
   "source": [
    "df.[df.isnull().any(axis=1)]"
   ]
  },
  {
   "cell_type": "markdown",
   "id": "4f513efe-f158-48c9-ac17-7dd4d107ba38",
   "metadata": {},
   "source": [
    "# Remove"
   ]
  },
  {
   "cell_type": "markdown",
   "id": "e3fa3669-275e-4b23-9078-e69ee695e8e3",
   "metadata": {},
   "source": [
    "Empty Cells: remove"
   ]
  },
  {
   "cell_type": "code",
   "execution_count": null,
   "id": "dcfedd4a-ea7c-4dfb-accc-dbf49d2c4c3e",
   "metadata": {},
   "outputs": [],
   "source": [
    "df_cleaned = df.dropna()"
   ]
  },
  {
   "cell_type": "code",
   "execution_count": null,
   "id": "1588095a-23f4-41e5-8edc-8ea4bf68ecf6",
   "metadata": {},
   "outputs": [],
   "source": []
  },
  {
   "cell_type": "code",
   "execution_count": null,
   "id": "710ebe0f-be0b-41d8-a65b-6d143dd5ab6f",
   "metadata": {},
   "outputs": [],
   "source": []
  },
  {
   "cell_type": "code",
   "execution_count": null,
   "id": "5a97b99c-e172-4220-a274-f6301d9dc4f1",
   "metadata": {},
   "outputs": [],
   "source": []
  },
  {
   "cell_type": "code",
   "execution_count": null,
   "id": "52442b81-3617-4cb8-b866-de56738b63db",
   "metadata": {},
   "outputs": [],
   "source": []
  },
  {
   "cell_type": "code",
   "execution_count": null,
   "id": "b11b7da3-ac06-4f88-a2ca-04abf6a67306",
   "metadata": {},
   "outputs": [],
   "source": []
  },
  {
   "cell_type": "code",
   "execution_count": null,
   "id": "50dd73a5-c866-4977-b18d-545d5f9b8e72",
   "metadata": {},
   "outputs": [],
   "source": []
  },
  {
   "cell_type": "code",
   "execution_count": null,
   "id": "1f940bc6-6f80-471a-8e45-51f84b26ed8b",
   "metadata": {},
   "outputs": [],
   "source": []
  },
  {
   "cell_type": "code",
   "execution_count": null,
   "id": "8cbda9b0-3880-4cad-980b-f8cc4fc5b410",
   "metadata": {},
   "outputs": [],
   "source": []
  }
 ],
 "metadata": {
  "kernelspec": {
   "display_name": "Python 3 (ipykernel)",
   "language": "python",
   "name": "python3"
  },
  "language_info": {
   "codemirror_mode": {
    "name": "ipython",
    "version": 3
   },
   "file_extension": ".py",
   "mimetype": "text/x-python",
   "name": "python",
   "nbconvert_exporter": "python",
   "pygments_lexer": "ipython3",
   "version": "3.12.4"
  }
 },
 "nbformat": 4,
 "nbformat_minor": 5
}
