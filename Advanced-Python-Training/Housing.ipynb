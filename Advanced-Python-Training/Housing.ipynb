{
 "cells": [
  {
   "cell_type": "code",
   "execution_count": null,
   "id": "9776ff42",
   "metadata": {},
   "outputs": [],
   "source": [
    "import pandas as pd\n",
    "import matplotlib.pyplot as plt\n",
    "from sklearn.model_selection import train_test_split\n",
    "\n",
    "housing = pd.read_csv('housing.csv', header=0, sep=',')\n",
    "# housing.head()\n",
    "# housing.tail()\n",
    "# housing[3:7]\n",
    "# housing[:7]\n",
    "# housing[-5:]\n",
    "# housing.shape\n",
    "\n",
    "# housing.info()\n",
    "# housing.columns\n",
    "\n",
    "# housing['ocean_proximity']\n",
    "# housing['ocean_proximity'].unique()\n",
    "# housing['ocean_proximity'].value_counts()\n",
    "# housing[housing['ocean_proximity'] == 'ISLAND']\n",
    "# housing[housing['ocean_proximity'] == 'ISLAND']['population']\n",
    "# housing[housing['ocean_proximity'] == 'ISLAND'][['population','ocean_proximity']]\n",
    "# housing.describe()\n",
    "# housing.hist(bins=50, figsize=(20,15))\n",
    "# plt.show()\n",
    "train_set, test_set = train_test_split(housing, test_size=0.2, random_state=42) \n",
    "print(train_set.shape, test_set.shape)"
   ]
  },
  {
   "cell_type": "code",
   "execution_count": null,
   "id": "6a623a06",
   "metadata": {},
   "outputs": [],
   "source": []
  }
 ],
 "metadata": {
  "kernelspec": {
   "display_name": "Python 3 (ipykernel)",
   "language": "python",
   "name": "python3"
  },
  "language_info": {
   "codemirror_mode": {
    "name": "ipython",
    "version": 3
   },
   "file_extension": ".py",
   "mimetype": "text/x-python",
   "name": "python",
   "nbconvert_exporter": "python",
   "pygments_lexer": "ipython3",
   "version": "3.12.0"
  }
 },
 "nbformat": 4,
 "nbformat_minor": 5
}
