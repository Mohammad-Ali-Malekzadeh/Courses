{
 "cells": [
  {
   "cell_type": "code",
   "execution_count": 3,
   "id": "1ffb7ff2",
   "metadata": {},
   "outputs": [],
   "source": [
    "my_list = [1,2,3]"
   ]
  },
  {
   "cell_type": "code",
   "execution_count": 4,
   "id": "e580a4ef",
   "metadata": {},
   "outputs": [],
   "source": [
    "my_list = ['STRING', 100, 23.2]"
   ]
  },
  {
   "cell_type": "code",
   "execution_count": 5,
   "id": "d4d5f7d6",
   "metadata": {},
   "outputs": [
    {
     "data": {
      "text/plain": [
       "3"
      ]
     },
     "execution_count": 5,
     "metadata": {},
     "output_type": "execute_result"
    }
   ],
   "source": [
    "len(my_list)"
   ]
  },
  {
   "cell_type": "code",
   "execution_count": 7,
   "id": "27cb49b4",
   "metadata": {},
   "outputs": [],
   "source": [
    "my_list = ['one', 'two', 'three']"
   ]
  },
  {
   "cell_type": "code",
   "execution_count": 8,
   "id": "6bfd07ed",
   "metadata": {},
   "outputs": [
    {
     "data": {
      "text/plain": [
       "'one'"
      ]
     },
     "execution_count": 8,
     "metadata": {},
     "output_type": "execute_result"
    }
   ],
   "source": [
    "my_list[0]"
   ]
  },
  {
   "cell_type": "code",
   "execution_count": 9,
   "id": "1f6f9e89",
   "metadata": {},
   "outputs": [
    {
     "data": {
      "text/plain": [
       "['one', 'two', 'three']"
      ]
     },
     "execution_count": 9,
     "metadata": {},
     "output_type": "execute_result"
    }
   ],
   "source": [
    "my_list"
   ]
  },
  {
   "cell_type": "code",
   "execution_count": 10,
   "id": "de871fc7",
   "metadata": {},
   "outputs": [],
   "source": [
    "another_list = ['four', 'five']"
   ]
  },
  {
   "cell_type": "code",
   "execution_count": 12,
   "id": "6d3463ac",
   "metadata": {},
   "outputs": [],
   "source": [
    "new_list = my_list  + another_list"
   ]
  },
  {
   "cell_type": "code",
   "execution_count": 13,
   "id": "1b5da779",
   "metadata": {},
   "outputs": [
    {
     "data": {
      "text/plain": [
       "['one', 'two', 'three', 'four', 'five']"
      ]
     },
     "execution_count": 13,
     "metadata": {},
     "output_type": "execute_result"
    }
   ],
   "source": [
    "new_list"
   ]
  },
  {
   "cell_type": "code",
   "execution_count": 14,
   "id": "cb358d6b",
   "metadata": {},
   "outputs": [
    {
     "data": {
      "text/plain": [
       "['one', 'two', 'three']"
      ]
     },
     "execution_count": 14,
     "metadata": {},
     "output_type": "execute_result"
    }
   ],
   "source": [
    "my_list"
   ]
  },
  {
   "cell_type": "code",
   "execution_count": 15,
   "id": "f6f07200",
   "metadata": {},
   "outputs": [],
   "source": [
    "another_list = ['four', 'five']"
   ]
  },
  {
   "cell_type": "code",
   "execution_count": 16,
   "id": "ca6d1ab4",
   "metadata": {},
   "outputs": [
    {
     "data": {
      "text/plain": [
       "['one', 'two', 'three', 'four', 'five']"
      ]
     },
     "execution_count": 16,
     "metadata": {},
     "output_type": "execute_result"
    }
   ],
   "source": [
    "new_list"
   ]
  },
  {
   "cell_type": "code",
   "execution_count": 17,
   "id": "68b257b7",
   "metadata": {},
   "outputs": [],
   "source": [
    "new_list[0] = 'ONE ALL CAPS'"
   ]
  },
  {
   "cell_type": "code",
   "execution_count": 18,
   "id": "2e76c2a6",
   "metadata": {},
   "outputs": [
    {
     "data": {
      "text/plain": [
       "['ONE ALL CAPS', 'two', 'three', 'four', 'five']"
      ]
     },
     "execution_count": 18,
     "metadata": {},
     "output_type": "execute_result"
    }
   ],
   "source": [
    "new_list"
   ]
  },
  {
   "cell_type": "code",
   "execution_count": 19,
   "id": "07aaa1cf",
   "metadata": {},
   "outputs": [],
   "source": [
    "new_list.append('six')"
   ]
  },
  {
   "cell_type": "code",
   "execution_count": 20,
   "id": "0274bf23",
   "metadata": {},
   "outputs": [
    {
     "data": {
      "text/plain": [
       "['ONE ALL CAPS', 'two', 'three', 'four', 'five', 'six']"
      ]
     },
     "execution_count": 20,
     "metadata": {},
     "output_type": "execute_result"
    }
   ],
   "source": [
    "new_list"
   ]
  },
  {
   "cell_type": "code",
   "execution_count": 21,
   "id": "b2ef98ef",
   "metadata": {},
   "outputs": [],
   "source": [
    "new_list.append('seven')"
   ]
  },
  {
   "cell_type": "code",
   "execution_count": 22,
   "id": "24a4485d",
   "metadata": {},
   "outputs": [
    {
     "data": {
      "text/plain": [
       "['ONE ALL CAPS', 'two', 'three', 'four', 'five', 'six', 'seven']"
      ]
     },
     "execution_count": 22,
     "metadata": {},
     "output_type": "execute_result"
    }
   ],
   "source": [
    "new_list"
   ]
  },
  {
   "cell_type": "code",
   "execution_count": 23,
   "id": "9b430ad1",
   "metadata": {},
   "outputs": [
    {
     "data": {
      "text/plain": [
       "'seven'"
      ]
     },
     "execution_count": 23,
     "metadata": {},
     "output_type": "execute_result"
    }
   ],
   "source": [
    "new_list.pop()"
   ]
  },
  {
   "cell_type": "code",
   "execution_count": 24,
   "id": "a72a976d",
   "metadata": {},
   "outputs": [
    {
     "data": {
      "text/plain": [
       "['ONE ALL CAPS', 'two', 'three', 'four', 'five', 'six']"
      ]
     },
     "execution_count": 24,
     "metadata": {},
     "output_type": "execute_result"
    }
   ],
   "source": [
    "new_list"
   ]
  },
  {
   "cell_type": "code",
   "execution_count": 25,
   "id": "b973fc13",
   "metadata": {},
   "outputs": [],
   "source": [
    " popped_item = new_list.pop()"
   ]
  },
  {
   "cell_type": "code",
   "execution_count": 26,
   "id": "dd25ecfa",
   "metadata": {},
   "outputs": [
    {
     "data": {
      "text/plain": [
       "'six'"
      ]
     },
     "execution_count": 26,
     "metadata": {},
     "output_type": "execute_result"
    }
   ],
   "source": [
    "popped_item"
   ]
  },
  {
   "cell_type": "code",
   "execution_count": 27,
   "id": "133e6d7b",
   "metadata": {},
   "outputs": [
    {
     "data": {
      "text/plain": [
       "['ONE ALL CAPS', 'two', 'three', 'four', 'five']"
      ]
     },
     "execution_count": 27,
     "metadata": {},
     "output_type": "execute_result"
    }
   ],
   "source": [
    "new_list"
   ]
  },
  {
   "cell_type": "code",
   "execution_count": 28,
   "id": "0fb3024a",
   "metadata": {},
   "outputs": [
    {
     "data": {
      "text/plain": [
       "'ONE ALL CAPS'"
      ]
     },
     "execution_count": 28,
     "metadata": {},
     "output_type": "execute_result"
    }
   ],
   "source": [
    "new_list.pop(0)"
   ]
  },
  {
   "cell_type": "code",
   "execution_count": 29,
   "id": "07ca42fe",
   "metadata": {},
   "outputs": [
    {
     "data": {
      "text/plain": [
       "['two', 'three', 'four', 'five']"
      ]
     },
     "execution_count": 29,
     "metadata": {},
     "output_type": "execute_result"
    }
   ],
   "source": [
    "new_list"
   ]
  },
  {
   "cell_type": "code",
   "execution_count": 2,
   "id": "593b6ed3",
   "metadata": {},
   "outputs": [],
   "source": [
    "new_list = ['a','e','x','b','c']\n",
    "num_list = [4,1,8,3]"
   ]
  },
  {
   "cell_type": "code",
   "execution_count": 3,
   "id": "ae0bfc22",
   "metadata": {},
   "outputs": [],
   "source": [
    "new_list.sort()"
   ]
  },
  {
   "cell_type": "code",
   "execution_count": 4,
   "id": "95ad482b",
   "metadata": {},
   "outputs": [
    {
     "data": {
      "text/plain": [
       "['a', 'b', 'c', 'e', 'x']"
      ]
     },
     "execution_count": 4,
     "metadata": {},
     "output_type": "execute_result"
    }
   ],
   "source": [
    "new_list"
   ]
  },
  {
   "cell_type": "code",
   "execution_count": 5,
   "id": "8166f056",
   "metadata": {},
   "outputs": [],
   "source": [
    "my_sorted_list = new_list.sort()"
   ]
  },
  {
   "cell_type": "code",
   "execution_count": 6,
   "id": "954b6db3",
   "metadata": {},
   "outputs": [
    {
     "data": {
      "text/plain": [
       "NoneType"
      ]
     },
     "execution_count": 6,
     "metadata": {},
     "output_type": "execute_result"
    }
   ],
   "source": [
    "type(my_sorted_list)"
   ]
  },
  {
   "cell_type": "code",
   "execution_count": 7,
   "id": "296e05a8",
   "metadata": {},
   "outputs": [],
   "source": [
    "None"
   ]
  },
  {
   "cell_type": "code",
   "execution_count": 8,
   "id": "4a05ccaa",
   "metadata": {},
   "outputs": [],
   "source": [
    "new_list.sort()\n",
    "my_sorted_list = new_list"
   ]
  },
  {
   "cell_type": "code",
   "execution_count": 9,
   "id": "1c06ae01",
   "metadata": {},
   "outputs": [
    {
     "data": {
      "text/plain": [
       "['a', 'b', 'c', 'e', 'x']"
      ]
     },
     "execution_count": 9,
     "metadata": {},
     "output_type": "execute_result"
    }
   ],
   "source": [
    "my_sorted_list"
   ]
  },
  {
   "cell_type": "code",
   "execution_count": 10,
   "id": "3a50e1b9",
   "metadata": {},
   "outputs": [
    {
     "data": {
      "text/plain": [
       "[4, 1, 8, 3]"
      ]
     },
     "execution_count": 10,
     "metadata": {},
     "output_type": "execute_result"
    }
   ],
   "source": [
    "num_list"
   ]
  },
  {
   "cell_type": "code",
   "execution_count": 11,
   "id": "f86b5cef",
   "metadata": {},
   "outputs": [],
   "source": [
    "num_list.sort()"
   ]
  },
  {
   "cell_type": "code",
   "execution_count": 12,
   "id": "dff0ce41",
   "metadata": {},
   "outputs": [
    {
     "data": {
      "text/plain": [
       "[1, 3, 4, 8]"
      ]
     },
     "execution_count": 12,
     "metadata": {},
     "output_type": "execute_result"
    }
   ],
   "source": [
    "num_list"
   ]
  },
  {
   "cell_type": "code",
   "execution_count": null,
   "id": "8aee34ff",
   "metadata": {},
   "outputs": [],
   "source": []
  }
 ],
 "metadata": {
  "kernelspec": {
   "display_name": "Python 3 (ipykernel)",
   "language": "python",
   "name": "python3"
  },
  "language_info": {
   "codemirror_mode": {
    "name": "ipython",
    "version": 3
   },
   "file_extension": ".py",
   "mimetype": "text/x-python",
   "name": "python",
   "nbconvert_exporter": "python",
   "pygments_lexer": "ipython3",
   "version": "3.11.5"
  }
 },
 "nbformat": 4,
 "nbformat_minor": 5
}
