{
 "cells": [
  {
   "cell_type": "markdown",
   "metadata": {
    "direction": "rtl"
   },
   "source": [
    "# مقدمه\n",
    "\n",
    "***هوش مصنوعی AI***: هرگاه برنامه کامپیوتری رفتاری از خودش نشون بده که شبیه به انسان است رو هوش مصنوعی میگوییم.\n",
    "مانند: چت بات پشتیبانی سایت ها ( که تشخیص آن سخت که با یک انسان صحبت میکنیم یا برنامه) - تشخصی اجزاء در تصویر (بینایی ماشین که شبیه به بینایی انسان کار میکند) - سیستم خودران اتوموبیل ( تشخیص اینکه راننده انسان است یا برنامه سخت است) - تبدیل صوت به نوشتار و... .\n",
    "\n",
    "برای اینکه مشخص کنیم که طرف مقابل ما هوش مصنوعی است یا یک انسان تست زیر را میتونیم بگیریم:\n",
    "\n",
    "تست Alan Turing:\n",
    "در این تست از یک نفر میخواهند که با دونفر در حال مکالمه یا تعامل باشد که یکی از آنها کامپیوتر و دیگری انسان است. اگر موفق به تشخیص نشود که کدوم یک انسان و دیگری کامپیوتر است عملا کامپیوتر داره رفتار انسانی از خودش نشون میده و نتیجه میگیریم که کامیپوتر مجهز به سیستم هوش مصنوعی می باشد.\n",
    "<img src='./pic/1.png' width= 300>\n",
    "\n",
    "***ماشین لرنینگ ML***:"
   ]
  },
  {
   "cell_type": "code",
   "execution_count": 2,
   "metadata": {},
   "outputs": [
    {
     "ename": "SyntaxError",
     "evalue": "invalid syntax (2344797716.py, line 1)",
     "output_type": "error",
     "traceback": [
      "\u001b[1;36m  Cell \u001b[1;32mIn[2], line 1\u001b[1;36m\u001b[0m\n\u001b[1;33m    <img src='./pic/1.png' width= 300>\u001b[0m\n\u001b[1;37m    ^\u001b[0m\n\u001b[1;31mSyntaxError\u001b[0m\u001b[1;31m:\u001b[0m invalid syntax\n"
     ]
    }
   ],
   "source": []
  },
  {
   "cell_type": "code",
   "execution_count": null,
   "metadata": {},
   "outputs": [],
   "source": []
  }
 ],
 "metadata": {
  "kernelspec": {
   "display_name": "Python 3 (ipykernel)",
   "language": "python",
   "name": "python3"
  },
  "language_info": {
   "codemirror_mode": {
    "name": "ipython",
    "version": 3
   },
   "file_extension": ".py",
   "mimetype": "text/x-python",
   "name": "python",
   "nbconvert_exporter": "python",
   "pygments_lexer": "ipython3",
   "version": "3.11.5"
  }
 },
 "nbformat": 4,
 "nbformat_minor": 2
}
