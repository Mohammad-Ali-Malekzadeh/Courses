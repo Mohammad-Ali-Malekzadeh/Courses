{
 "cells": [
  {
   "cell_type": "markdown",
   "metadata": {},
   "source": [
    "# Safura PDF"
   ]
  },
  {
   "cell_type": "code",
   "execution_count": 3,
   "metadata": {},
   "outputs": [],
   "source": [
    "# Variable\n",
    "name = \"Jogn\"\n",
    "age = 30\n",
    "is_happy = True"
   ]
  },
  {
   "cell_type": "code",
   "execution_count": 6,
   "metadata": {},
   "outputs": [],
   "source": [
    "# Data Types\n",
    "number = 42\n",
    "Price = 19.99\n",
    "message = \"Welcome\"\n",
    "is_ready = False"
   ]
  },
  {
   "cell_type": "markdown",
   "metadata": {},
   "source": [
    "## Input and Output"
   ]
  },
  {
   "cell_type": "code",
   "execution_count": 4,
   "metadata": {},
   "outputs": [
    {
     "name": "stdout",
     "output_type": "stream",
     "text": [
      "Hello, ALI !\n"
     ]
    }
   ],
   "source": [
    "# Input\n",
    "name = input(\"What is your name?\")\n",
    "print(\"Hello,\", name, \"!\")"
   ]
  },
  {
   "cell_type": "code",
   "execution_count": 5,
   "metadata": {},
   "outputs": [
    {
     "name": "stdout",
     "output_type": "stream",
     "text": [
      "This is Python\n"
     ]
    }
   ],
   "source": [
    "# Output\n",
    "print(\"This is Python\")"
   ]
  },
  {
   "cell_type": "markdown",
   "metadata": {},
   "source": [
    "## Print Function"
   ]
  },
  {
   "cell_type": "code",
   "execution_count": 7,
   "metadata": {},
   "outputs": [
    {
     "name": "stdout",
     "output_type": "stream",
     "text": [
      "Hello, World!\n"
     ]
    }
   ],
   "source": [
    "# Print a simple message:\n",
    "print(\"Hello, World!\")"
   ]
  },
  {
   "cell_type": "code",
   "execution_count": 8,
   "metadata": {},
   "outputs": [
    {
     "name": "stdout",
     "output_type": "stream",
     "text": [
      "Name: John Age: 25\n"
     ]
    }
   ],
   "source": [
    "# Print a multiple items:\n",
    "print(\"Name:\", \"John\", \"Age:\", 25)"
   ]
  },
  {
   "cell_type": "code",
   "execution_count": 9,
   "metadata": {},
   "outputs": [
    {
     "name": "stdout",
     "output_type": "stream",
     "text": [
      "My name is Alice and I am 30 years old.\n"
     ]
    }
   ],
   "source": [
    "# Use formatted strings (f-strings):\n",
    "name = \"Alice\"\n",
    "age = 30\n",
    "print(f\"My name is {name} and I am {age} years old.\")"
   ]
  },
  {
   "cell_type": "markdown",
   "metadata": {},
   "source": [
    "## The input() Function: Interacting with Users"
   ]
  },
  {
   "cell_type": "code",
   "execution_count": 10,
   "metadata": {},
   "outputs": [
    {
     "name": "stdout",
     "output_type": "stream",
     "text": [
      "Hello, Ali!\n"
     ]
    }
   ],
   "source": [
    "# Simple input:\n",
    "name = input(\"What is your name?\")\n",
    "print(\"Hello, \" + name + \"!\")"
   ]
  },
  {
   "cell_type": "code",
   "execution_count": 12,
   "metadata": {},
   "outputs": [
    {
     "name": "stdout",
     "output_type": "stream",
     "text": [
      "You are 25 years old.\n"
     ]
    }
   ],
   "source": [
    "# Using numbers with int or float casting:\n",
    "age = int(input(\"Enter your age: \"))\n",
    "print(f\"You are {age} years old.\")"
   ]
  },
  {
   "cell_type": "markdown",
   "metadata": {},
   "source": [
    "## Type Casting: Converting Between Data Types"
   ]
  },
  {
   "cell_type": "code",
   "execution_count": 14,
   "metadata": {},
   "outputs": [
    {
     "name": "stdout",
     "output_type": "stream",
     "text": [
      "Next year, you will be 26 years old.\n"
     ]
    }
   ],
   "source": [
    "# int() - Converts to integer\n",
    "age = int(input(\"Enter your age: \"))\n",
    "print(f\"Next year, you will be {age + 1} years old.\")"
   ]
  },
  {
   "cell_type": "code",
   "execution_count": 15,
   "metadata": {},
   "outputs": [
    {
     "name": "stdout",
     "output_type": "stream",
     "text": [
      "5\n"
     ]
    }
   ],
   "source": [
    "# float() - Converts to floating-point number.\n",
    "number =5.8\n",
    "print(int(number))"
   ]
  },
  {
   "cell_type": "code",
   "execution_count": 16,
   "metadata": {},
   "outputs": [
    {
     "name": "stdout",
     "output_type": "stream",
     "text": [
      "Number: 100\n"
     ]
    }
   ],
   "source": [
    "# str() - Converts to string.\n",
    "num = 100\n",
    "print(\"Number: \" + str(num))"
   ]
  },
  {
   "cell_type": "markdown",
   "metadata": {},
   "source": [
    "## Letʼs write our first program"
   ]
  },
  {
   "cell_type": "code",
   "execution_count": 17,
   "metadata": {},
   "outputs": [
    {
     "name": "stdout",
     "output_type": "stream",
     "text": [
      "Hello, Ali! You are 23 years old.\n"
     ]
    }
   ],
   "source": [
    "name = input(\"What is your name?\")\n",
    "birth_year = int(input(\"What year were you born?\"))\n",
    "age = 2025 - birth_year\n",
    "print(f\"Hello, {name}! You are {age} years old.\")"
   ]
  },
  {
   "cell_type": "markdown",
   "metadata": {},
   "source": [
    "# Safura Writed Code"
   ]
  },
  {
   "cell_type": "code",
   "execution_count": 18,
   "metadata": {},
   "outputs": [
    {
     "name": "stdout",
     "output_type": "stream",
     "text": [
      "Hello, everyone!  This is  our session:  1\n"
     ]
    }
   ],
   "source": [
    "print(\"Hello, everyone! \", \"This is \", \"our session: \", 1)"
   ]
  },
  {
   "cell_type": "code",
   "execution_count": 19,
   "metadata": {},
   "outputs": [
    {
     "name": "stdout",
     "output_type": "stream",
     "text": [
      "Hello everyone!This is our session: 1\n"
     ]
    }
   ],
   "source": [
    "print(\"Hello \" + \"everyone!\" + \"This is \" + \"our session: \" + \"1\")"
   ]
  },
  {
   "cell_type": "code",
   "execution_count": 25,
   "metadata": {},
   "outputs": [
    {
     "name": "stdout",
     "output_type": "stream",
     "text": [
      "Hey Alice, your age is 30!\n",
      "Hey Alice , your age is 30 !\n"
     ]
    }
   ],
   "source": [
    "name = \"Alice\"\n",
    "age = 30\n",
    "print(f\"Hey {name}, your age is {age}!\")\n",
    "print(\"Hey\", name, \", your age is\", age, \"!\")"
   ]
  },
  {
   "cell_type": "code",
   "execution_count": 28,
   "metadata": {},
   "outputs": [
    {
     "name": "stdout",
     "output_type": "stream",
     "text": [
      "Hey a !\n"
     ]
    }
   ],
   "source": [
    "name = input(\"What is your name? \")\n",
    "age = int(input(\"What is your age? \"))\n",
    "price = float(input(\"Enter Price of the Item: \"))\n",
    "print(\"Hey\", name, '!')"
   ]
  },
  {
   "cell_type": "code",
   "execution_count": 31,
   "metadata": {},
   "outputs": [
    {
     "name": "stdout",
     "output_type": "stream",
     "text": [
      "Hello, Ali! You are 23 years old.\n"
     ]
    }
   ],
   "source": [
    "# Ask For Name and byear. calculate their age\n",
    "name = input(\"Enter your name: \")\n",
    "byear = int(input(\"Enter your bitrh year: \"))\n",
    "age = 2025 - byear \n",
    "print(f\"Hello, {name}! You are {age} years old.\")"
   ]
  },
  {
   "cell_type": "code",
   "execution_count": 33,
   "metadata": {},
   "outputs": [
    {
     "name": "stdout",
     "output_type": "stream",
     "text": [
      "Sum of the numbers:  240\n"
     ]
    }
   ],
   "source": [
    "# Program that sums 2 numbers get from user\n",
    "number1 = int(input(\"Enter your first Number: \"))\n",
    "number2 = int(input(\"Enter your second Number: \"))\n",
    "print(\"Sum of the numbers: \", number1 + number2)"
   ]
  },
  {
   "cell_type": "code",
   "execution_count": 34,
   "metadata": {},
   "outputs": [
    {
     "name": "stdout",
     "output_type": "stream",
     "text": [
      "Helooo Ali!\n"
     ]
    }
   ],
   "source": [
    "# Program that gets username and greets\n",
    "name = input('Enter your name please: ')\n",
    "print(f\"Helooo {name}!\")"
   ]
  },
  {
   "cell_type": "code",
   "execution_count": 35,
   "metadata": {},
   "outputs": [
    {
     "name": "stdout",
     "output_type": "stream",
     "text": [
      "Degree in Fahrenheit: 90.5\n"
     ]
    }
   ],
   "source": [
    "degree_celcius = float(input(\"Enter degree in Celcius: \"))\n",
    "degree_fahrenheit = degree_celcius * (9/5) + 32\n",
    "print(\"Degree in Fahrenheit:\", degree_fahrenheit)"
   ]
  }
 ],
 "metadata": {
  "kernelspec": {
   "display_name": "Python 3",
   "language": "python",
   "name": "python3"
  },
  "language_info": {
   "codemirror_mode": {
    "name": "ipython",
    "version": 3
   },
   "file_extension": ".py",
   "mimetype": "text/x-python",
   "name": "python",
   "nbconvert_exporter": "python",
   "pygments_lexer": "ipython3",
   "version": "3.12.1"
  }
 },
 "nbformat": 4,
 "nbformat_minor": 2
}
